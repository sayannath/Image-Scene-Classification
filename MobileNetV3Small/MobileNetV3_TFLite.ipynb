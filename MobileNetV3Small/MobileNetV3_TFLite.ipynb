{
  "nbformat": 4,
  "nbformat_minor": 0,
  "metadata": {
    "colab": {
      "name": "scratchpad",
      "provenance": []
    },
    "kernelspec": {
      "display_name": "Python 3",
      "name": "python3"
    }
  },
  "cells": [
    {
      "cell_type": "code",
      "metadata": {
        "id": "i_VtevJnNfff",
        "outputId": "ba5df968-cc87-4cff-beb1-0fbee5bff156",
        "colab": {
          "base_uri": "https://localhost:8080/"
        }
      },
      "source": [
        "!pip install -q tf-nightly"
      ],
      "execution_count": 1,
      "outputs": [
        {
          "output_type": "stream",
          "text": [
            "\u001b[K     |████████████████████████████████| 409.0MB 40kB/s \n",
            "\u001b[K     |████████████████████████████████| 4.0MB 54.0MB/s \n",
            "\u001b[K     |████████████████████████████████| 4.0MB 35.0MB/s \n",
            "\u001b[K     |████████████████████████████████| 471kB 55.5MB/s \n",
            "\u001b[K     |████████████████████████████████| 5.9MB 1.1MB/s \n",
            "\u001b[K     |████████████████████████████████| 3.8MB 44.4MB/s \n",
            "\u001b[31mERROR: tensorflow 2.4.1 has requirement gast==0.3.3, but you'll have gast 0.4.0 which is incompatible.\u001b[0m\n",
            "\u001b[31mERROR: tensorflow 2.4.1 has requirement grpcio~=1.32.0, but you'll have grpcio 1.34.1 which is incompatible.\u001b[0m\n",
            "\u001b[31mERROR: tensorflow 2.4.1 has requirement h5py~=2.10.0, but you'll have h5py 3.1.0 which is incompatible.\u001b[0m\n",
            "\u001b[?25h"
          ],
          "name": "stdout"
        }
      ]
    },
    {
      "cell_type": "code",
      "metadata": {
        "id": "d2tIjq-dL9rU",
        "outputId": "0af885e0-f82f-4510-db48-2fa62201ef25",
        "colab": {
          "base_uri": "https://localhost:8080/"
        }
      },
      "source": [
        "import tensorflow as tf\n",
        "print(tf.__version__)"
      ],
      "execution_count": 2,
      "outputs": [
        {
          "output_type": "stream",
          "text": [
            "2.5.0-dev20210301\n"
          ],
          "name": "stdout"
        }
      ]
    },
    {
      "cell_type": "code",
      "metadata": {
        "id": "0W0TolL6MBEA",
        "outputId": "8e276c28-693d-4615-cfaf-3f74f1952978",
        "colab": {
          "base_uri": "https://localhost:8080/"
        }
      },
      "source": [
        "!wget https://storage.googleapis.com/mai-scene-detection/mobilenet_v3_mai.tar.gz\n",
        "!tar xf mobilenet_v3_mai.tar.gz"
      ],
      "execution_count": 3,
      "outputs": [
        {
          "output_type": "stream",
          "text": [
            "--2021-03-01 09:56:19--  https://storage.googleapis.com/mai-scene-detection/mobilenet_v3_mai.tar.gz\n",
            "Resolving storage.googleapis.com (storage.googleapis.com)... 172.217.193.128, 172.217.204.128, 172.217.203.128, ...\n",
            "Connecting to storage.googleapis.com (storage.googleapis.com)|172.217.193.128|:443... connected.\n",
            "HTTP request sent, awaiting response... 200 OK\n",
            "Length: 21995520 (21M) [application/x-tar]\n",
            "Saving to: ‘mobilenet_v3_mai.tar.gz’\n",
            "\n",
            "mobilenet_v3_mai.ta 100%[===================>]  20.98M  78.1MB/s    in 0.3s    \n",
            "\n",
            "2021-03-01 09:56:19 (78.1 MB/s) - ‘mobilenet_v3_mai.tar.gz’ saved [21995520/21995520]\n",
            "\n"
          ],
          "name": "stdout"
        }
      ]
    },
    {
      "cell_type": "code",
      "metadata": {
        "id": "ixFKsvQtMmI6",
        "outputId": "8b29c3c2-5f9d-4329-bf28-42019547924a",
        "colab": {
          "base_uri": "https://localhost:8080/"
        }
      },
      "source": [
        "converter = tf.lite.TFLiteConverter.from_saved_model(\"mobilenet_v3_mai\")\n",
        "converter.optimizations = [tf.lite.Optimize.DEFAULT]\n",
        "converter.target_spec.supported_ops = [\n",
        "    tf.lite.OpsSet.TFLITE_BUILTINS,\n",
        "    tf.lite.OpsSet.SELECT_TF_OPS \n",
        "]\n",
        "tflite_model = converter.convert()\n",
        "open(\"mobilenetv3_dr.tflite\", 'wb').write(tflite_model)\n",
        "print('Model size is %f MBs.' % (len(tflite_model) / 1024 / 1024.0))"
      ],
      "execution_count": 5,
      "outputs": [
        {
          "output_type": "stream",
          "text": [
            "Model size is 4.098206 MBs.\n"
          ],
          "name": "stdout"
        }
      ]
    }
  ]
}