{
 "cells": [
  {
   "cell_type": "markdown",
   "metadata": {
    "colab_type": "text",
    "id": "view-in-github"
   },
   "source": [
    "<a href=\"https://colab.research.google.com/github/sayannath/Image-Scene-Classification/blob/master/Scene_Detection_MobileNetV3.ipynb\" target=\"_parent\"><img src=\"https://colab.research.google.com/assets/colab-badge.svg\" alt=\"Open In Colab\"/></a>"
   ]
  },
  {
   "cell_type": "markdown",
   "metadata": {
    "id": "ySN2Np1gUEL9"
   },
   "source": [
    "## Data Gathering"
   ]
  },
  {
   "cell_type": "code",
   "execution_count": 1,
   "metadata": {
    "id": "TSVLT3WON0a3"
   },
   "outputs": [],
   "source": [
    "!wget -q http://data.vision.ee.ethz.ch/ihnatova/camera_scene_detection_train.zip\n",
    "!unzip -qq camera_scene_detection_train.zip"
   ]
  },
  {
   "cell_type": "markdown",
   "metadata": {
    "id": "zlWzVUOVUGLf"
   },
   "source": [
    "## Initial Setup"
   ]
  },
  {
   "cell_type": "code",
   "execution_count": 1,
   "metadata": {
    "colab": {
     "base_uri": "https://localhost:8080/"
    },
    "id": "Y-kGgWLZNkoZ",
    "outputId": "9a1c586e-9b4e-48ed-87cf-cbdbf14b5acd"
   },
   "outputs": [
    {
     "name": "stdout",
     "output_type": "stream",
     "text": [
      "Mon Mar  1 09:42:56 2021       \n",
      "+-----------------------------------------------------------------------------+\n",
      "| NVIDIA-SMI 450.51.06    Driver Version: 450.51.06    CUDA Version: 11.0     |\n",
      "|-------------------------------+----------------------+----------------------+\n",
      "| GPU  Name        Persistence-M| Bus-Id        Disp.A | Volatile Uncorr. ECC |\n",
      "| Fan  Temp  Perf  Pwr:Usage/Cap|         Memory-Usage | GPU-Util  Compute M. |\n",
      "|                               |                      |               MIG M. |\n",
      "|===============================+======================+======================|\n",
      "|   0  Tesla V100-SXM2...  Off  | 00000000:00:04.0 Off |                    0 |\n",
      "| N/A   36C    P0    38W / 300W |      0MiB / 16160MiB |      4%      Default |\n",
      "|                               |                      |                  N/A |\n",
      "+-------------------------------+----------------------+----------------------+\n",
      "                                                                               \n",
      "+-----------------------------------------------------------------------------+\n",
      "| Processes:                                                                  |\n",
      "|  GPU   GI   CI        PID   Type   Process name                  GPU Memory |\n",
      "|        ID   ID                                                   Usage      |\n",
      "|=============================================================================|\n",
      "|  No running processes found                                                 |\n",
      "+-----------------------------------------------------------------------------+\n"
     ]
    }
   ],
   "source": [
    "!nvidia-smi"
   ]
  },
  {
   "cell_type": "code",
   "execution_count": 2,
   "metadata": {
    "colab": {
     "base_uri": "https://localhost:8080/"
    },
    "id": "usXwmGSENb87",
    "outputId": "7a62851c-259c-4f50-c83c-7059e89bb208"
   },
   "outputs": [
    {
     "name": "stdout",
     "output_type": "stream",
     "text": [
      "2.4.1\n"
     ]
    }
   ],
   "source": [
    "import tensorflow as tf\n",
    "tf.random.set_seed(42)\n",
    "print(tf.__version__)"
   ]
  },
  {
   "cell_type": "code",
   "execution_count": 17,
   "metadata": {
    "id": "QmfZrlKCNlfn"
   },
   "outputs": [],
   "source": [
    "from imutils import paths\n",
    "from pprint import pprint\n",
    "from collections import Counter\n",
    "from sklearn.preprocessing import LabelEncoder\n",
    "from tensorflow.keras.utils import to_categorical\n",
    "from tensorflow.keras.applications import MobileNetV3Small\n",
    "from tensorflow.keras.models import load_model\n",
    "from tensorflow.keras.layers import *\n",
    "import matplotlib.pyplot as plt\n",
    "import re \n",
    "\n",
    "import numpy as np\n",
    "np.random.seed(42)\n",
    "\n",
    "from tensorflow.keras import mixed_precision\n",
    "mixed_precision.set_global_policy('mixed_float16')"
   ]
  },
  {
   "cell_type": "markdown",
   "metadata": {
    "id": "bLS-XsV0UL7s"
   },
   "source": [
    "## Data Parsing"
   ]
  },
  {
   "cell_type": "code",
   "execution_count": 4,
   "metadata": {
    "colab": {
     "base_uri": "https://localhost:8080/"
    },
    "id": "kQHZ-8mIOIhf",
    "outputId": "58bef87a-25b2-445a-d25e-41fb9e5ef655"
   },
   "outputs": [
    {
     "data": {
      "text/plain": [
       "['training/8_Beach/10.jpg',\n",
       " 'training/7_Food/390.jpg',\n",
       " 'training/21_Night_shot/264.jpg',\n",
       " 'training/17_Cloudy_Sky/209.jpg',\n",
       " 'training/20_Flower/273.jpg']"
      ]
     },
     "execution_count": 4,
     "metadata": {},
     "output_type": "execute_result"
    }
   ],
   "source": [
    "image_paths = list(paths.list_images(\"training\"))\n",
    "np.random.shuffle(image_paths)\n",
    "image_paths[:5]"
   ]
  },
  {
   "cell_type": "code",
   "execution_count": 5,
   "metadata": {
    "colab": {
     "base_uri": "https://localhost:8080/"
    },
    "id": "PWgn10HWOPs3",
    "outputId": "bce26809-71b8-4ee1-a3cd-5657f1a831d2"
   },
   "outputs": [
    {
     "name": "stdout",
     "output_type": "stream",
     "text": [
      "Counter({'4_Dog': 502,\n",
      "         '14_Architecture': 463,\n",
      "         '15_Sunset_Sunrise': 420,\n",
      "         '7_Food': 400,\n",
      "         '5_Cat': 373,\n",
      "         '6_Macro': 357,\n",
      "         '9_Mountain': 352,\n",
      "         '11_Snow': 344,\n",
      "         '12_Landscape': 335,\n",
      "         '8_Beach': 334,\n",
      "         '10_Waterfall': 326,\n",
      "         '2_Group_portrait': 324,\n",
      "         '22_Stage_concert': 322,\n",
      "         '16_Blue_Sky': 322,\n",
      "         '1_Portrait': 319,\n",
      "         '23_Fireworks': 317,\n",
      "         '21_Night_shot': 316,\n",
      "         '24_Candle_light': 313,\n",
      "         '30_Computer_Screens': 308,\n",
      "         '17_Cloudy_Sky': 307,\n",
      "         '28_Text_Documents': 306,\n",
      "         '26_Indoor': 298,\n",
      "         '13_Underwater': 296,\n",
      "         '19_Autumn_leaves': 295,\n",
      "         '18_Greenery': 294,\n",
      "         '3_Kids': 281,\n",
      "         '27_Backlight': 280,\n",
      "         '20_Flower': 279,\n",
      "         '25_Neon_lights': 269,\n",
      "         '29_QR_images': 245})\n"
     ]
    }
   ],
   "source": [
    "labels = []\n",
    "for image_path in image_paths:\n",
    "    label = image_path.split(\"/\")[1]\n",
    "    labels.append(label)\n",
    "class_count = Counter(labels) \n",
    "pprint(class_count) "
   ]
  },
  {
   "cell_type": "code",
   "execution_count": 6,
   "metadata": {
    "id": "gYmnr_zNOnLB"
   },
   "outputs": [],
   "source": [
    "TRAIN_SPLIT = 0.9\n",
    "IMG_SIZE = 224\n",
    "BATCH_SIZE = 256\n",
    "AUTO = tf.data.AUTOTUNE\n",
    "EPOCHS = 100"
   ]
  },
  {
   "cell_type": "code",
   "execution_count": 7,
   "metadata": {
    "colab": {
     "base_uri": "https://localhost:8080/"
    },
    "id": "532yYcHfPXG1",
    "outputId": "b94ca882-50fb-4266-821a-45dfbd843a02"
   },
   "outputs": [
    {
     "name": "stdout",
     "output_type": "stream",
     "text": [
      "8907 990\n"
     ]
    }
   ],
   "source": [
    "i = int(len(image_paths) * TRAIN_SPLIT)\n",
    "\n",
    "train_paths = image_paths[:i]\n",
    "train_labels = labels[:i]\n",
    "validation_paths = image_paths[i:]\n",
    "validation_labels = labels[i:]\n",
    "\n",
    "print(len(train_paths), len(validation_paths))"
   ]
  },
  {
   "cell_type": "code",
   "execution_count": 8,
   "metadata": {
    "colab": {
     "base_uri": "https://localhost:8080/"
    },
    "id": "LcnGF5PaQTHy",
    "outputId": "6e5af277-ed03-4497-b4ca-98dd97dd2dd4"
   },
   "outputs": [
    {
     "name": "stdout",
     "output_type": "stream",
     "text": [
      "[28 27 12  7 11]\n"
     ]
    }
   ],
   "source": [
    "le = LabelEncoder()\n",
    "train_labels_le = le.fit_transform(train_labels)\n",
    "validation_labels_le = le.transform(validation_labels)\n",
    "print(train_labels_le[:5])"
   ]
  },
  {
   "cell_type": "markdown",
   "metadata": {
    "id": "HPr8MoSwUQJF"
   },
   "source": [
    "## Data Loader Utilities"
   ]
  },
  {
   "cell_type": "code",
   "execution_count": 9,
   "metadata": {
    "id": "6kRkDVJ0PwhF"
   },
   "outputs": [],
   "source": [
    "@tf.function\n",
    "def load_images(image_path, label):\n",
    "    image = tf.io.read_file(image_path)\n",
    "    image = tf.image.decode_jpeg(image, channels=3)\n",
    "    image = tf.cast(image, tf.float32)\n",
    "    # No rescaling since MobileNetV3 internally does it\n",
    "    image = tf.image.resize(image, (IMG_SIZE, IMG_SIZE))\n",
    "    return (image, label)\n",
    "\n",
    "data_augmentation = tf.keras.Sequential(\n",
    "    [\n",
    "        tf.keras.layers.experimental.preprocessing.RandomFlip(\"horizontal\"),\n",
    "        tf.keras.layers.experimental.preprocessing.RandomRotation(factor=0.02),\n",
    "        tf.keras.layers.experimental.preprocessing.RandomZoom(\n",
    "            height_factor=0.2, width_factor=0.2\n",
    "        ),\n",
    "    ],\n",
    "    name=\"data_augmentation\",\n",
    ")"
   ]
  },
  {
   "cell_type": "code",
   "execution_count": 10,
   "metadata": {
    "id": "iOm7ddwvRIOj"
   },
   "outputs": [],
   "source": [
    "train_ds = tf.data.Dataset.from_tensor_slices((train_paths, train_labels_le))\n",
    "train_ds = (\n",
    "    train_ds\n",
    "    .shuffle(1024)\n",
    "    .map(load_images, num_parallel_calls=AUTO)\n",
    "    .batch(BATCH_SIZE)\n",
    "    .map(lambda x, y: (data_augmentation(x), y), num_parallel_calls=AUTO)\n",
    "    .prefetch(AUTO)\n",
    ")\n",
    "val_ds = tf.data.Dataset.from_tensor_slices((validation_paths, validation_labels_le))\n",
    "val_ds = (\n",
    "    val_ds\n",
    "    .map(load_images, num_parallel_calls=AUTO)\n",
    "    .batch(BATCH_SIZE)\n",
    "    .prefetch(AUTO)\n",
    ")"
   ]
  },
  {
   "cell_type": "markdown",
   "metadata": {
    "id": "Ce4qzyPYUUmp"
   },
   "source": [
    "Since the dataset has class imbalance issue, it's good to supply class weights while training the model. "
   ]
  },
  {
   "cell_type": "code",
   "execution_count": 11,
   "metadata": {
    "id": "POtwmf1QUcd8"
   },
   "outputs": [],
   "source": [
    "# Reference: https://www.pyimagesearch.com/2019/02/18/breast-cancer-classification-with-keras-and-deep-learning/\n",
    "trainLabels = to_categorical(train_labels_le)\n",
    "classTotals = trainLabels.sum(axis=0)\n",
    "classWeight = dict()\n",
    "# loop over all classes and calculate the class weight\n",
    "for i in range(0, len(classTotals)):\n",
    "\tclassWeight[i] = classTotals.max() / classTotals[i]"
   ]
  },
  {
   "cell_type": "markdown",
   "metadata": {
    "id": "gukGVDWjU2q1"
   },
   "source": [
    "## Model Building and Training"
   ]
  },
  {
   "cell_type": "code",
   "execution_count": 12,
   "metadata": {
    "id": "5YiqbH-oU12B"
   },
   "outputs": [],
   "source": [
    "def get_training_model(trainable=False):\n",
    "    # Load the MobileNetV3 model but exclude the classification layers\n",
    "    EXTRACTOR = MobileNetV3Small(weights=\"imagenet\", include_top=False,\n",
    "                    input_shape=(224, 224, 3))\n",
    "    # We will set it to both True and False\n",
    "    EXTRACTOR.trainable = trainable\n",
    "    # Construct the head of the model that will be placed on top of the\n",
    "    # the base model\n",
    "    class_head = EXTRACTOR.output\n",
    "    class_head = GlobalAveragePooling2D()(class_head)\n",
    "    class_head = Dense(512, activation=\"relu\")(class_head)\n",
    "    class_head = Dropout(0.5)(class_head)\n",
    "    class_head = Dense(30, activation=\"softmax\", dtype=\"float32\")(class_head)\n",
    "\n",
    "    # Create the new model\n",
    "    classifier = tf.keras.Model(inputs=EXTRACTOR.input, outputs=class_head)\n",
    "\n",
    "    # Compile and return the model\n",
    "    classifier.compile(loss=\"sparse_categorical_crossentropy\", \n",
    "                          optimizer=\"adam\",\n",
    "                          metrics=[\"accuracy\"])\n",
    "\n",
    "    return classifier"
   ]
  },
  {
   "cell_type": "code",
   "execution_count": 13,
   "metadata": {
    "id": "IqKIo0zpWeKg"
   },
   "outputs": [],
   "source": [
    "def plot_hist(hist):\n",
    "    plt.plot(hist.history[\"accuracy\"])\n",
    "    plt.plot(hist.history[\"val_accuracy\"])\n",
    "    plt.plot(hist.history[\"loss\"])\n",
    "    plt.plot(hist.history[\"val_loss\"])\n",
    "    plt.title(\"Training Progress\")\n",
    "    plt.ylabel(\"Accuracy/Loss\")\n",
    "    plt.xlabel(\"Epochs\")\n",
    "    plt.legend([\"train_acc\", \"val_acc\", \"train_loss\", \"val_loss\"], loc=\"upper left\")\n",
    "    plt.show()"
   ]
  },
  {
   "cell_type": "code",
   "execution_count": 14,
   "metadata": {
    "id": "2HvAaf1_VwWQ"
   },
   "outputs": [],
   "source": [
    "train_callbacks = [\n",
    "    tf.keras.callbacks.EarlyStopping(patience=5, restore_best_weights=True)\n",
    "]"
   ]
  },
  {
   "cell_type": "code",
   "execution_count": 15,
   "metadata": {
    "colab": {
     "base_uri": "https://localhost:8080/",
     "height": 907
    },
    "id": "yGrNqV4GWHM-",
    "outputId": "ff3479b4-37c3-4b63-b465-181f5deb987c"
   },
   "outputs": [
    {
     "name": "stdout",
     "output_type": "stream",
     "text": [
      "Epoch 1/100\n",
      "35/35 [==============================] - 42s 856ms/step - loss: 3.7951 - accuracy: 0.3546 - val_loss: 0.4982 - val_accuracy: 0.8616\n",
      "Epoch 2/100\n",
      "35/35 [==============================] - 36s 864ms/step - loss: 1.0425 - accuracy: 0.8027 - val_loss: 0.3514 - val_accuracy: 0.8960\n",
      "Epoch 3/100\n",
      "35/35 [==============================] - 36s 856ms/step - loss: 0.7896 - accuracy: 0.8375 - val_loss: 0.3116 - val_accuracy: 0.9040\n",
      "Epoch 4/100\n",
      "35/35 [==============================] - 37s 876ms/step - loss: 0.6610 - accuracy: 0.8685 - val_loss: 0.2894 - val_accuracy: 0.9061\n",
      "Epoch 5/100\n",
      "35/35 [==============================] - 36s 854ms/step - loss: 0.6056 - accuracy: 0.8793 - val_loss: 0.2628 - val_accuracy: 0.9141\n",
      "Epoch 6/100\n",
      "35/35 [==============================] - 36s 862ms/step - loss: 0.5526 - accuracy: 0.8860 - val_loss: 0.2606 - val_accuracy: 0.9202\n",
      "Epoch 7/100\n",
      "35/35 [==============================] - 36s 860ms/step - loss: 0.4865 - accuracy: 0.9011 - val_loss: 0.2380 - val_accuracy: 0.9232\n",
      "Epoch 8/100\n",
      "35/35 [==============================] - 36s 862ms/step - loss: 0.4671 - accuracy: 0.9010 - val_loss: 0.2412 - val_accuracy: 0.9172\n",
      "Epoch 9/100\n",
      "35/35 [==============================] - 36s 850ms/step - loss: 0.4430 - accuracy: 0.9041 - val_loss: 0.2363 - val_accuracy: 0.9202\n",
      "Epoch 10/100\n",
      "35/35 [==============================] - 36s 864ms/step - loss: 0.4256 - accuracy: 0.9146 - val_loss: 0.2170 - val_accuracy: 0.9293\n",
      "Epoch 11/100\n",
      "35/35 [==============================] - 36s 843ms/step - loss: 0.3784 - accuracy: 0.9235 - val_loss: 0.2407 - val_accuracy: 0.9192\n",
      "Epoch 12/100\n",
      "35/35 [==============================] - 37s 873ms/step - loss: 0.3821 - accuracy: 0.9211 - val_loss: 0.2266 - val_accuracy: 0.9283\n",
      "Epoch 13/100\n",
      "35/35 [==============================] - 36s 857ms/step - loss: 0.3711 - accuracy: 0.9210 - val_loss: 0.2236 - val_accuracy: 0.9212\n",
      "Epoch 14/100\n",
      "35/35 [==============================] - 36s 872ms/step - loss: 0.3274 - accuracy: 0.9358 - val_loss: 0.2119 - val_accuracy: 0.9293\n",
      "Epoch 15/100\n",
      "35/35 [==============================] - 36s 836ms/step - loss: 0.3368 - accuracy: 0.9305 - val_loss: 0.2240 - val_accuracy: 0.9253\n",
      "Epoch 16/100\n",
      "35/35 [==============================] - 36s 848ms/step - loss: 0.3165 - accuracy: 0.9319 - val_loss: 0.2073 - val_accuracy: 0.9323\n",
      "Epoch 17/100\n",
      "35/35 [==============================] - 36s 858ms/step - loss: 0.3005 - accuracy: 0.9335 - val_loss: 0.2093 - val_accuracy: 0.9283\n",
      "Epoch 18/100\n",
      "35/35 [==============================] - 36s 853ms/step - loss: 0.3000 - accuracy: 0.9333 - val_loss: 0.2142 - val_accuracy: 0.9222\n",
      "Epoch 19/100\n",
      "35/35 [==============================] - 36s 865ms/step - loss: 0.2770 - accuracy: 0.9392 - val_loss: 0.2143 - val_accuracy: 0.9283\n",
      "Epoch 20/100\n",
      "35/35 [==============================] - 36s 855ms/step - loss: 0.2711 - accuracy: 0.9405 - val_loss: 0.2171 - val_accuracy: 0.9354\n",
      "Epoch 21/100\n",
      "35/35 [==============================] - 36s 865ms/step - loss: 0.2768 - accuracy: 0.9442 - val_loss: 0.1958 - val_accuracy: 0.9374\n",
      "Epoch 22/100\n",
      "35/35 [==============================] - 36s 856ms/step - loss: 0.2585 - accuracy: 0.9450 - val_loss: 0.2140 - val_accuracy: 0.9293\n",
      "Epoch 23/100\n",
      "35/35 [==============================] - 36s 862ms/step - loss: 0.2544 - accuracy: 0.9418 - val_loss: 0.2166 - val_accuracy: 0.9313\n",
      "Epoch 24/100\n",
      "35/35 [==============================] - 36s 857ms/step - loss: 0.2381 - accuracy: 0.9467 - val_loss: 0.2073 - val_accuracy: 0.9323\n",
      "Epoch 25/100\n",
      "35/35 [==============================] - 36s 865ms/step - loss: 0.2239 - accuracy: 0.9534 - val_loss: 0.2099 - val_accuracy: 0.9283\n",
      "Epoch 26/100\n",
      "35/35 [==============================] - 36s 868ms/step - loss: 0.2287 - accuracy: 0.9520 - val_loss: 0.2149 - val_accuracy: 0.9273\n",
      "4/4 [==============================] - 1s 112ms/step - loss: 0.1958 - accuracy: 0.9374\n",
      "Accuracy: 93.74%\n"
     ]
    },
    {
     "data": {
      "image/png": "[encoded data removed]",
      "text/plain": [
       "<Figure size 432x288 with 1 Axes>"
      ]
     },
     "metadata": {
      "needs_background": "light"
     },
     "output_type": "display_data"
    }
   ],
   "source": [
    "classifier = get_training_model()\n",
    "h = classifier.fit(train_ds,\n",
    "               validation_data=val_ds,\n",
    "               epochs=EPOCHS,\n",
    "               class_weight=classWeight,\n",
    "               callbacks=train_callbacks)\n",
    "accuracy = classifier.evaluate(val_ds)[1] * 100\n",
    "print(\"Accuracy: {:.2f}%\".format(accuracy))\n",
    "plot_hist(h)"
   ]
  },
  {
   "cell_type": "code",
   "execution_count": 16,
   "metadata": {
    "id": "yBPBelHmaJYj"
   },
   "outputs": [],
   "source": [
    "# LR schedule\n",
    "# Reference: https://t.ly/IT9G\n",
    "start_lr = 0.00001\n",
    "min_lr = 0.00001\n",
    "max_lr = 0.00005\n",
    "rampup_epochs = 5\n",
    "sustain_epochs = 0\n",
    "exp_decay = .8\n",
    "\n",
    "def lrfn(epoch):\n",
    "    def lr(epoch, start_lr, min_lr, max_lr, rampup_epochs, sustain_epochs, exp_decay):\n",
    "        if epoch < rampup_epochs:\n",
    "            lr = (max_lr - start_lr)/rampup_epochs * epoch + start_lr\n",
    "        elif epoch < rampup_epochs + sustain_epochs:\n",
    "            lr = max_lr\n",
    "        else:\n",
    "            lr = (max_lr - min_lr) * exp_decay**(epoch-rampup_epochs-sustain_epochs) + min_lr\n",
    "        return lr\n",
    "    return lr(epoch, start_lr, min_lr, max_lr, rampup_epochs, sustain_epochs, exp_decay)\n",
    "    \n",
    "lr_callback = tf.keras.callbacks.LearningRateScheduler(lambda epoch: lrfn(epoch), verbose=True)\n",
    "train_callbacks.extend([lr_callback])"
   ]
  },
  {
   "cell_type": "code",
   "execution_count": 17,
   "metadata": {
    "colab": {
     "base_uri": "https://localhost:8080/",
     "height": 1000
    },
    "id": "zccm1ka0XUwX",
    "outputId": "44aafce5-ce84-4fdc-bafe-de25f6bda917"
   },
   "outputs": [
    {
     "name": "stdout",
     "output_type": "stream",
     "text": [
      "Epoch 1/100\n",
      "\n",
      "Epoch 00001: LearningRateScheduler reducing learning rate to 1e-05.\n",
      "35/35 [==============================] - 41s 889ms/step - loss: 0.2430 - accuracy: 0.9458 - val_loss: 0.1916 - val_accuracy: 0.9374\n",
      "Epoch 2/100\n",
      "\n",
      "Epoch 00002: LearningRateScheduler reducing learning rate to 1.8000000000000004e-05.\n",
      "35/35 [==============================] - 36s 859ms/step - loss: 0.2227 - accuracy: 0.9542 - val_loss: 0.1943 - val_accuracy: 0.9333\n",
      "Epoch 3/100\n",
      "\n",
      "Epoch 00003: LearningRateScheduler reducing learning rate to 2.6000000000000002e-05.\n",
      "35/35 [==============================] - 36s 869ms/step - loss: 0.2250 - accuracy: 0.9528 - val_loss: 0.1945 - val_accuracy: 0.9354\n",
      "Epoch 4/100\n",
      "\n",
      "Epoch 00004: LearningRateScheduler reducing learning rate to 3.4000000000000007e-05.\n",
      "35/35 [==============================] - 36s 857ms/step - loss: 0.1889 - accuracy: 0.9606 - val_loss: 0.1952 - val_accuracy: 0.9354\n",
      "Epoch 5/100\n",
      "\n",
      "Epoch 00005: LearningRateScheduler reducing learning rate to 4.2000000000000004e-05.\n",
      "35/35 [==============================] - 36s 847ms/step - loss: 0.1835 - accuracy: 0.9598 - val_loss: 0.1936 - val_accuracy: 0.9364\n",
      "Epoch 6/100\n",
      "\n",
      "Epoch 00006: LearningRateScheduler reducing learning rate to 5e-05.\n",
      "35/35 [==============================] - 36s 864ms/step - loss: 0.1720 - accuracy: 0.9622 - val_loss: 0.1972 - val_accuracy: 0.9354\n",
      "4/4 [==============================] - 1s 114ms/step - loss: 0.1916 - accuracy: 0.9374\n",
      "Accuracy: 93.74%\n"
     ]
    },
    {
     "data": {
      "image/png": "[encoded data removed]",
      "text/plain": [
       "<Figure size 432x288 with 1 Axes>"
      ]
     },
     "metadata": {
      "needs_background": "light"
     },
     "output_type": "display_data"
    }
   ],
   "source": [
    "for layer in classifier.layers[-20:]:\n",
    "    if not isinstance(layer, BatchNormalization):\n",
    "        layer.trainable = True\n",
    "classifier.compile(loss=\"sparse_categorical_crossentropy\", \n",
    "    optimizer=\"adam\",\n",
    "    metrics=[\"accuracy\"])\n",
    "h = classifier.fit(train_ds,\n",
    "               validation_data=val_ds,\n",
    "               epochs=EPOCHS,\n",
    "               class_weight=classWeight,\n",
    "               callbacks=train_callbacks)\n",
    "accuracy = classifier.evaluate(val_ds)[1] * 100\n",
    "print(\"Accuracy: {:.2f}%\".format(accuracy))\n",
    "plot_hist(h)"
   ]
  },
  {
   "cell_type": "markdown",
   "metadata": {
    "id": "kCFhHACmo7ss"
   },
   "source": [
    "## Serialize Main Model"
   ]
  },
  {
   "cell_type": "code",
   "execution_count": 18,
   "metadata": {
    "colab": {
     "base_uri": "https://localhost:8080/"
    },
    "id": "ZGL5ut25ojk6",
    "outputId": "d5d6eebc-599f-4671-803f-21b9a42ff28e"
   },
   "outputs": [
    {
     "name": "stdout",
     "output_type": "stream",
     "text": [
      "INFO:tensorflow:Assets written to: mobilenet_v3_mai/assets\n"
     ]
    }
   ],
   "source": [
    "classifier.save(\"mobilenet_v3_mai\")"
   ]
  },
  {
   "cell_type": "code",
   "execution_count": 19,
   "metadata": {
    "colab": {
     "base_uri": "https://localhost:8080/"
    },
    "id": "bHuKJ2kLpYfc",
    "outputId": "30590689-770b-4276-f0b4-8f2802d39755"
   },
   "outputs": [
    {
     "name": "stdout",
     "output_type": "stream",
     "text": [
      "4.0K\tmobilenet_v3_mai/assets\n",
      "18M\tmobilenet_v3_mai/variables\n",
      "21M\tmobilenet_v3_mai\n"
     ]
    }
   ],
   "source": [
    "!du -lh mobilenet_v3_mai"
   ]
  },
  {
   "cell_type": "markdown",
   "metadata": {},
   "source": [
    "## Inference Pipeline"
   ]
  },
  {
   "cell_type": "code",
   "execution_count": 10,
   "metadata": {},
   "outputs": [],
   "source": [
    "!wget -q https://data.vision.ee.ethz.ch/ihnatova/camera_scene_detection_validation.zip\n",
    "!unzip -qq camera_scene_detection_validation.zip"
   ]
  },
  {
   "cell_type": "code",
   "execution_count": 14,
   "metadata": {},
   "outputs": [],
   "source": [
    "# https://stackoverflow.com/a/2669120/7636462\n",
    "def sorted_nicely(l): \n",
    "    \"\"\" Sort the given iterable in the way that humans expect.\"\"\" \n",
    "    convert = lambda text: int(text) if text.isdigit() else text \n",
    "    alphanum_key = lambda key: [ convert(c) for c in re.split('([0-9]+)', key) ] \n",
    "    return sorted(l, key = alphanum_key)\n",
    "\n",
    "def preprocess_image(image_path):\n",
    "    image = tf.io.read_file(image_path)\n",
    "    image = tf.image.decode_jpeg(image, channels=3)\n",
    "    image = tf.cast(image, tf.float32)\n",
    "    # No rescaling since MobileNetV3 internally does it\n",
    "    image = tf.image.resize(image, (IMG_SIZE, IMG_SIZE))\n",
    "    return image"
   ]
  },
  {
   "cell_type": "code",
   "execution_count": 15,
   "metadata": {},
   "outputs": [
    {
     "name": "stdout",
     "output_type": "stream",
     "text": [
      "Total test images: 600\n"
     ]
    }
   ],
   "source": [
    "test_image_paths = sorted_nicely(list(paths.list_images(\"images\")))\n",
    "print(f\"Total test images: {len(test_image_paths)}\")"
   ]
  },
  {
   "cell_type": "code",
   "execution_count": 16,
   "metadata": {},
   "outputs": [
    {
     "data": {
      "text/plain": [
       "['images/0.jpg',\n",
       " 'images/1.jpg',\n",
       " 'images/2.jpg',\n",
       " 'images/3.jpg',\n",
       " 'images/4.jpg']"
      ]
     },
     "execution_count": 16,
     "metadata": {},
     "output_type": "execute_result"
    }
   ],
   "source": [
    "test_image_paths[:5]"
   ]
  },
  {
   "cell_type": "code",
   "execution_count": 28,
   "metadata": {},
   "outputs": [
    {
     "name": "stdout",
     "output_type": "stream",
     "text": [
      "WARNING:tensorflow:5 out of the last 13 calls to <function Model.make_predict_function.<locals>.predict_function at 0x7f5d51e97170> triggered tf.function retracing. Tracing is expensive and the excessive number of tracings could be due to (1) creating @tf.function repeatedly in a loop, (2) passing tensors with different shapes, (3) passing Python objects instead of tensors. For (1), please define your @tf.function outside of the loop. For (2), @tf.function has experimental_relax_shapes=True option that relaxes argument shapes that can avoid unnecessary retracing. For (3), please refer to https://www.tensorflow.org/guide/function#controlling_retracing and https://www.tensorflow.org/api_docs/python/tf/function for  more details.\n",
      "(600,)\n"
     ]
    }
   ],
   "source": [
    "classifier_model = load_model(\"mobilenet_v3_mai\")\n",
    "\n",
    "test_ds = tf.data.Dataset.from_tensor_slices(test_image_paths)\n",
    "test_ds = (\n",
    "    test_ds\n",
    "    .map(preprocess_image)\n",
    "    .batch(BATCH_SIZE)\n",
    ")\n",
    "\n",
    "test_predictions = np.argmax(classifier_model.predict(test_ds), 1)\n",
    "test_predictions = le.inverse_transform(test_predictions)\n",
    "print(test_predictions.shape)"
   ]
  },
  {
   "cell_type": "code",
   "execution_count": 29,
   "metadata": {},
   "outputs": [
    {
     "name": "stdout",
     "output_type": "stream",
     "text": [
      "['9', '21', '27', '4', '28']\n",
      "9\n",
      "21\n",
      "27\n",
      "4\n",
      "28\n"
     ]
    }
   ],
   "source": [
    "test_predictions_num = list(map(lambda x: x.split(\"_\")[0], test_predictions.tolist()))\n",
    "print(test_predictions_num[:5])\n",
    "with open('results.txt', \"w\") as myfile:\n",
    "    myfile.write('\\n'.join(list(test_predictions_num)))\n",
    "!head -5 results.txt"
   ]
  }
 ],
 "metadata": {
  "accelerator": "GPU",
  "colab": {
   "authorship_tag": "ABX9TyPcQLfEmLNzG8DfE0tZzJjX",
   "include_colab_link": true,
   "name": "Scene_Detection_MobileNetV2.ipynb",
   "provenance": []
  },
  "environment": {
   "name": "tf2-gpu.2-4.mnightly-2021-01-20-debian-10-test",
   "type": "gcloud",
   "uri": "gcr.io/deeplearning-platform-release/tf2-gpu.2-4:mnightly-2021-01-20-debian-10-test"
  },
  "kernelspec": {
   "display_name": "Python 3",
   "language": "python",
   "name": "python3"
  },
  "language_info": {
   "codemirror_mode": {
    "name": "ipython",
    "version": 3
   },
   "file_extension": ".py",
   "mimetype": "text/x-python",
   "name": "python",
   "nbconvert_exporter": "python",
   "pygments_lexer": "ipython3",
   "version": "3.7.9"
  }
 },
 "nbformat": 4,
 "nbformat_minor": 4
}
