{
  "nbformat": 4,
  "nbformat_minor": 0,
  "metadata": {
    "colab": {
      "name": "BiT Image Scene Classification.ipynb",
      "provenance": [],
      "collapsed_sections": [],
      "toc_visible": true
    },
    "kernelspec": {
      "name": "python3",
      "display_name": "Python 3"
    },
    "accelerator": "GPU"
  },
  "cells": [
    {
      "cell_type": "markdown",
      "metadata": {
        "id": "oPXsSkM-ZwoE"
      },
      "source": [
        "## Initial Setup"
      ]
    },
    {
      "cell_type": "code",
      "metadata": {
        "colab": {
          "base_uri": "https://localhost:8080/"
        },
        "id": "Nymcf4_NZoN9",
        "outputId": "aeabc108-a345-4964-8f73-d12f62fd4297"
      },
      "source": [
        "!nvidia-smi"
      ],
      "execution_count": 1,
      "outputs": [
        {
          "output_type": "stream",
          "text": [
            "Sun Mar  7 13:54:52 2021       \n",
            "+-----------------------------------------------------------------------------+\n",
            "| NVIDIA-SMI 460.39       Driver Version: 460.32.03    CUDA Version: 11.2     |\n",
            "|-------------------------------+----------------------+----------------------+\n",
            "| GPU  Name        Persistence-M| Bus-Id        Disp.A | Volatile Uncorr. ECC |\n",
            "| Fan  Temp  Perf  Pwr:Usage/Cap|         Memory-Usage | GPU-Util  Compute M. |\n",
            "|                               |                      |               MIG M. |\n",
            "|===============================+======================+======================|\n",
            "|   0  Tesla T4            Off  | 00000000:00:04.0 Off |                    0 |\n",
            "| N/A   41C    P8    10W /  70W |      0MiB / 15109MiB |      0%      Default |\n",
            "|                               |                      |                  N/A |\n",
            "+-------------------------------+----------------------+----------------------+\n",
            "                                                                               \n",
            "+-----------------------------------------------------------------------------+\n",
            "| Processes:                                                                  |\n",
            "|  GPU   GI   CI        PID   Type   Process name                  GPU Memory |\n",
            "|        ID   ID                                                   Usage      |\n",
            "|=============================================================================|\n",
            "|  No running processes found                                                 |\n",
            "+-----------------------------------------------------------------------------+\n"
          ],
          "name": "stdout"
        }
      ]
    },
    {
      "cell_type": "markdown",
      "metadata": {
        "id": "7QihESoGZ7Sf"
      },
      "source": [
        "## Data Gathering"
      ]
    },
    {
      "cell_type": "code",
      "metadata": {
        "id": "LHW45NA5ZzdI"
      },
      "source": [
        "!wget -q http://data.vision.ee.ethz.ch/ihnatova/camera_scene_detection_train.zip\n",
        "!unzip -qq camera_scene_detection_train.zip"
      ],
      "execution_count": 2,
      "outputs": []
    },
    {
      "cell_type": "markdown",
      "metadata": {
        "id": "e0hdgvokaCAD"
      },
      "source": [
        "## Importing Tensorflow"
      ]
    },
    {
      "cell_type": "code",
      "metadata": {
        "colab": {
          "base_uri": "https://localhost:8080/"
        },
        "id": "tLmj1NRCZ_HN",
        "outputId": "d0d4cc24-a92a-4d2d-8fc8-264fbc74afe7"
      },
      "source": [
        "import tensorflow as tf\n",
        "tf.random.set_seed(42)\n",
        "\n",
        "print(tf.__version__)"
      ],
      "execution_count": 1,
      "outputs": [
        {
          "output_type": "stream",
          "text": [
            "2.4.1\n"
          ],
          "name": "stdout"
        }
      ]
    },
    {
      "cell_type": "markdown",
      "metadata": {
        "id": "Qex9JCFFaJLC"
      },
      "source": [
        "## Importing necessary modules"
      ]
    },
    {
      "cell_type": "code",
      "metadata": {
        "id": "9rqesDynaFv_"
      },
      "source": [
        "from imutils import paths\n",
        "from pprint import pprint\n",
        "from collections import Counter\n",
        "import tensorflow_hub as hub\n",
        "from sklearn.preprocessing import LabelEncoder\n",
        "from tensorflow.keras.utils import to_categorical\n",
        "from tensorflow.keras.models import load_model, Sequential\n",
        "from tensorflow.keras.layers import *\n",
        "import matplotlib.pyplot as plt\n",
        "import re \n",
        "\n",
        "import numpy as np\n",
        "np.random.seed(42)"
      ],
      "execution_count": 2,
      "outputs": []
    },
    {
      "cell_type": "markdown",
      "metadata": {
        "id": "eiowNJkmaNzP"
      },
      "source": [
        "## Data Parsing"
      ]
    },
    {
      "cell_type": "code",
      "metadata": {
        "colab": {
          "base_uri": "https://localhost:8080/"
        },
        "id": "ti-JHxMzaLiZ",
        "outputId": "34f47d72-39bb-432e-b929-6fa5a43c7855"
      },
      "source": [
        "image_paths = list(paths.list_images(\"training\"))\n",
        "np.random.shuffle(image_paths)\n",
        "image_paths[:5]"
      ],
      "execution_count": 3,
      "outputs": [
        {
          "output_type": "execute_result",
          "data": {
            "text/plain": [
              "['training/27_Backlight/71.jpg',\n",
              " 'training/22_Stage_concert/296.jpg',\n",
              " 'training/11_Snow/336.jpg',\n",
              " 'training/15_Sunset_Sunrise/96.jpg',\n",
              " 'training/24_Candle_light/101.jpg']"
            ]
          },
          "metadata": {
            "tags": []
          },
          "execution_count": 3
        }
      ]
    },
    {
      "cell_type": "markdown",
      "metadata": {
        "id": "cnDfKZsKbQZz"
      },
      "source": [
        "## Counting number of images for each classes"
      ]
    },
    {
      "cell_type": "code",
      "metadata": {
        "colab": {
          "base_uri": "https://localhost:8080/"
        },
        "id": "ACH7l2U6aSKf",
        "outputId": "928a621d-a965-46a5-f0e2-4922f26b5320"
      },
      "source": [
        "labels = []\n",
        "for image_path in image_paths:\n",
        "    label = image_path.split(\"/\")[1]\n",
        "    labels.append(label)\n",
        "class_count = Counter(labels) \n",
        "pprint(class_count)"
      ],
      "execution_count": 4,
      "outputs": [
        {
          "output_type": "stream",
          "text": [
            "Counter({'4_Dog': 502,\n",
            "         '14_Architecture': 463,\n",
            "         '15_Sunset_Sunrise': 420,\n",
            "         '7_Food': 400,\n",
            "         '5_Cat': 373,\n",
            "         '6_Macro': 357,\n",
            "         '9_Mountain': 352,\n",
            "         '11_Snow': 344,\n",
            "         '12_Landscape': 335,\n",
            "         '8_Beach': 334,\n",
            "         '10_Waterfall': 326,\n",
            "         '2_Group_portrait': 324,\n",
            "         '22_Stage_concert': 322,\n",
            "         '16_Blue_Sky': 322,\n",
            "         '1_Portrait': 319,\n",
            "         '23_Fireworks': 317,\n",
            "         '21_Night_shot': 316,\n",
            "         '24_Candle_light': 313,\n",
            "         '30_Computer_Screens': 308,\n",
            "         '17_Cloudy_Sky': 307,\n",
            "         '28_Text_Documents': 306,\n",
            "         '26_Indoor': 298,\n",
            "         '13_Underwater': 296,\n",
            "         '19_Autumn_leaves': 295,\n",
            "         '18_Greenery': 294,\n",
            "         '3_Kids': 281,\n",
            "         '27_Backlight': 280,\n",
            "         '20_Flower': 279,\n",
            "         '25_Neon_lights': 269,\n",
            "         '29_QR_images': 245})\n"
          ],
          "name": "stdout"
        }
      ]
    },
    {
      "cell_type": "code",
      "metadata": {
        "id": "6wmBH9iUbdxw"
      },
      "source": [
        "TRAIN_SPLIT = 0.9\n",
        "BATCH_SIZE = 128\n",
        "AUTO = tf.data.AUTOTUNE\n",
        "EPOCHS = 100"
      ],
      "execution_count": 5,
      "outputs": []
    },
    {
      "cell_type": "code",
      "metadata": {
        "colab": {
          "base_uri": "https://localhost:8080/"
        },
        "id": "4FrAeGCObjOp",
        "outputId": "208b92c7-67b5-4394-fbb7-a81452a0826f"
      },
      "source": [
        "i = int(len(image_paths) * TRAIN_SPLIT)\n",
        "\n",
        "train_paths = image_paths[:i]\n",
        "train_labels = labels[:i]\n",
        "validation_paths = image_paths[i:]\n",
        "validation_labels = labels[i:]\n",
        "\n",
        "print(len(train_paths), len(validation_paths))"
      ],
      "execution_count": 6,
      "outputs": [
        {
          "output_type": "stream",
          "text": [
            "8907 990\n"
          ],
          "name": "stdout"
        }
      ]
    },
    {
      "cell_type": "code",
      "metadata": {
        "colab": {
          "base_uri": "https://localhost:8080/"
        },
        "id": "O4cYliLjdKuQ",
        "outputId": "6c57c8a2-99d4-4707-9ba0-fc3b82b5eb0f"
      },
      "source": [
        "le = LabelEncoder()\n",
        "train_labels_le = le.fit_transform(train_labels)\n",
        "validation_labels_le = le.transform(validation_labels)\n",
        "print(train_labels_le[:5])"
      ],
      "execution_count": 7,
      "outputs": [
        {
          "output_type": "stream",
          "text": [
            "[18 13  1  5 15]\n"
          ],
          "name": "stdout"
        }
      ]
    },
    {
      "cell_type": "markdown",
      "metadata": {
        "id": "MVOJVxmldPrj"
      },
      "source": [
        "## DataLoader"
      ]
    },
    {
      "cell_type": "code",
      "metadata": {
        "id": "YwFtWRDdemiP"
      },
      "source": [
        "train_ds = tf.data.Dataset.from_tensor_slices((train_paths, train_labels_le))\n",
        "val_ds = tf.data.Dataset.from_tensor_slices((validation_paths, validation_labels_le))"
      ],
      "execution_count": 8,
      "outputs": []
    },
    {
      "cell_type": "markdown",
      "metadata": {
        "id": "c6-ny24Fe8XD"
      },
      "source": [
        "Since the dataset has class imbalance issue, it's good to supply class weights while training the model."
      ]
    },
    {
      "cell_type": "code",
      "metadata": {
        "id": "2OsfW8Iee4Z7"
      },
      "source": [
        "# Reference: https://www.pyimagesearch.com/2019/02/18/breast-cancer-classification-with-keras-and-deep-learning/\n",
        "\n",
        "trainLabels = to_categorical(train_labels_le)\n",
        "classTotals = trainLabels.sum(axis=0)\n",
        "classWeight = dict()\n",
        "# loop over all classes and calculate the class weight\n",
        "for i in range(0, len(classTotals)):\n",
        "\tclassWeight[i] = classTotals.max() / classTotals[i]"
      ],
      "execution_count": 9,
      "outputs": []
    },
    {
      "cell_type": "markdown",
      "metadata": {
        "id": "e_0rDJUffQJ0"
      },
      "source": [
        "## Set dataset-dependent hyperparameters"
      ]
    },
    {
      "cell_type": "code",
      "metadata": {
        "id": "irdo0Ovre-6k"
      },
      "source": [
        "IMAGE_SIZE = \"> 96 x 96 px\" #@param [\"=<96x96 px\",\"> 96 x 96 px\"]\n",
        "DATASET_SIZE = \"\\u003C20k examples\" #@param [\"<20k examples\", \"20k-500k examples\", \">500k examples\"]\n",
        "\n",
        "if IMAGE_SIZE == \"=<96x96 px\":\n",
        "  RESIZE_TO = 260\n",
        "  CROP_TO = 224\n",
        "else:\n",
        "  RESIZE_TO = 260\n",
        "  CROP_TO = 224\n",
        "\n",
        "if DATASET_SIZE == \"<20k examples\":\n",
        "  SCHEDULE_LENGTH = 500\n",
        "  SCHEDULE_BOUNDARIES = [200, 300, 400]\n",
        "elif DATASET_SIZE == \"20k-500k examples\":\n",
        "  SCHEDULE_LENGTH = 10000\n",
        "  SCHEDULE_BOUNDARIES = [3000, 6000, 9000]\n",
        "else:\n",
        "  SCHEDULE_LENGTH = 20000\n",
        "  SCHEDULE_BOUNDARIES = [6000, 12000, 18000]"
      ],
      "execution_count": 10,
      "outputs": []
    },
    {
      "cell_type": "markdown",
      "metadata": {
        "id": "9UZAwuIzfaxB"
      },
      "source": [
        "## Preprocessing helper functions"
      ]
    },
    {
      "cell_type": "code",
      "metadata": {
        "id": "uyCnWTtLfSkc"
      },
      "source": [
        "SCHEDULE_LENGTH = SCHEDULE_LENGTH * 512 / BATCH_SIZE\n",
        "\n",
        "\n",
        "@tf.function  \n",
        "def preprocess_train(image_path, label):\n",
        "    image = tf.io.read_file(image_path)\n",
        "    image = tf.image.decode_jpeg(image, channels=3)\n",
        "    image = tf.image.resize(image, (RESIZE_TO, RESIZE_TO))\n",
        "    image = tf.image.random_crop(image, [CROP_TO, CROP_TO, 3])\n",
        "    image = tf.cast(image, tf.float32) / 255.0\n",
        "    return (image, label)\n",
        "\n",
        "@tf.function\n",
        "def preprocess_test(image_path, label):\n",
        "    image = tf.io.read_file(image_path)\n",
        "    image = tf.image.decode_jpeg(image, channels=3)\n",
        "    image = tf.image.resize(image, (RESIZE_TO, RESIZE_TO))\n",
        "    image = tf.cast(image, tf.float32) / 255.0\n",
        "    return (image, label)"
      ],
      "execution_count": 11,
      "outputs": []
    },
    {
      "cell_type": "code",
      "metadata": {
        "id": "IBvXyPvygBRg"
      },
      "source": [
        "DATASET_NUM_TRAIN_EXAMPLES=len(train_paths)\n",
        "NUM_CLASSES=30\n",
        "STEPS_PER_EPOCH = 140"
      ],
      "execution_count": 12,
      "outputs": []
    },
    {
      "cell_type": "markdown",
      "metadata": {
        "id": "cE8mv5MC8M6m"
      },
      "source": [
        "## Create data pipelines for training and testing:"
      ]
    },
    {
      "cell_type": "code",
      "metadata": {
        "id": "NLvNGJRffkMp"
      },
      "source": [
        "pipeline_train = (train_ds\n",
        "                  .shuffle(10000)\n",
        "                  .repeat(int(SCHEDULE_LENGTH * BATCH_SIZE / DATASET_NUM_TRAIN_EXAMPLES * STEPS_PER_EPOCH) + 1 + 50)  # repeat dataset_size / num_steps\n",
        "                  .map(preprocess_train, num_parallel_calls=8)\n",
        "                  .batch(BATCH_SIZE)\n",
        "                  .prefetch(2))\n",
        "\n",
        "pipeline_test = (val_ds.map(preprocess_test, num_parallel_calls=1)\n",
        "                  .batch(BATCH_SIZE)\n",
        "                  .prefetch(2))"
      ],
      "execution_count": 13,
      "outputs": []
    },
    {
      "cell_type": "markdown",
      "metadata": {
        "id": "OLOH_vTa7DwS"
      },
      "source": [
        "## # Load model into KerasLayer"
      ]
    },
    {
      "cell_type": "code",
      "metadata": {
        "id": "lJAYmmPk6-ch"
      },
      "source": [
        "model_url = \"https://tfhub.dev/google/bit/m-r50x1/1\"\n",
        "module = hub.KerasLayer(model_url, trainable=True)\n",
        "\n",
        "# module = Sequential([\n",
        "#     hub.KerasLayer(model_url, trainable=True), \n",
        "#     Dense(NUM_CLASSES, kernel_initializer='zeros')\n",
        "#     ])"
      ],
      "execution_count": 14,
      "outputs": []
    },
    {
      "cell_type": "markdown",
      "metadata": {
        "id": "WavQhAwH63sj"
      },
      "source": [
        "## BiT Model"
      ]
    },
    {
      "cell_type": "code",
      "metadata": {
        "id": "xk4Wb-Oe6mNg"
      },
      "source": [
        "class MyBiTModel(tf.keras.Model):\n",
        "\n",
        "  def __init__(self, num_classes, module):\n",
        "    super().__init__()\n",
        "\n",
        "    self.num_classes = num_classes\n",
        "    self.head = tf.keras.layers.Dense(num_classes, kernel_initializer='zeros')\n",
        "    self.bit_model = module\n",
        "  \n",
        "  def call(self, images):\n",
        "    # No need to cut head off since we are using feature extractor model\n",
        "    bit_embedding = self.bit_model(images)\n",
        "    return self.head(bit_embedding)\n",
        "\n",
        "model = MyBiTModel(num_classes=NUM_CLASSES, module=module)"
      ],
      "execution_count": 15,
      "outputs": []
    },
    {
      "cell_type": "markdown",
      "metadata": {
        "id": "2nEdPuY18AaH"
      },
      "source": [
        "## Defining optimiser and loss"
      ]
    },
    {
      "cell_type": "code",
      "metadata": {
        "id": "IpLbvjd7fuSn"
      },
      "source": [
        "lr = 0.003 * BATCH_SIZE / 512 \n",
        "\n",
        "# Decay learning rate by a factor of 10 at SCHEDULE_BOUNDARIES.\n",
        "lr_schedule = tf.keras.optimizers.schedules.PiecewiseConstantDecay(boundaries=SCHEDULE_BOUNDARIES, \n",
        "                                                                   values=[lr, lr*0.1, lr*0.01, lr*0.001])\n",
        "optimizer = tf.keras.optimizers.SGD(learning_rate=lr_schedule, momentum=0.9)\n",
        "\n",
        "loss_fn = tf.keras.losses.SparseCategoricalCrossentropy(from_logits=True)"
      ],
      "execution_count": 16,
      "outputs": []
    },
    {
      "cell_type": "code",
      "metadata": {
        "id": "KMFbZfZf6E0C"
      },
      "source": [
        "model.compile(optimizer=optimizer, loss=loss_fn, metrics=['accuracy'])"
      ],
      "execution_count": 17,
      "outputs": []
    },
    {
      "cell_type": "markdown",
      "metadata": {
        "id": "yiiwpAAm78ph"
      },
      "source": [
        "## Setting the callback"
      ]
    },
    {
      "cell_type": "code",
      "metadata": {
        "id": "brUqtmVS6JBQ"
      },
      "source": [
        "train_callbacks = [\n",
        "    tf.keras.callbacks.EarlyStopping(monitor='val_accuracy', patience=5, restore_best_weights=True)\n",
        "]"
      ],
      "execution_count": 18,
      "outputs": []
    },
    {
      "cell_type": "markdown",
      "metadata": {
        "id": "CsVke5kj76PK"
      },
      "source": [
        "## Training the model"
      ]
    },
    {
      "cell_type": "code",
      "metadata": {
        "id": "Zq0PQL5N6Qdx",
        "colab": {
          "base_uri": "https://localhost:8080/"
        },
        "outputId": "2b657010-8f3f-4b9b-e0ab-b06d38505353"
      },
      "source": [
        "history = model.fit(\n",
        "    pipeline_train,\n",
        "    batch_size=BATCH_SIZE,\n",
        "    steps_per_epoch=STEPS_PER_EPOCH,\n",
        "    epochs= int(SCHEDULE_LENGTH / STEPS_PER_EPOCH),  \n",
        "    class_weight=classWeight,\n",
        "    validation_data=pipeline_test,\n",
        "    callbacks=train_callbacks)"
      ],
      "execution_count": 19,
      "outputs": [
        {
          "output_type": "stream",
          "text": [
            "Epoch 1/14\n",
            "140/140 [==============================] - 360s 2s/step - loss: 1.1844 - accuracy: 0.8109 - val_loss: 0.1188 - val_accuracy: 0.9596\n",
            "Epoch 2/14\n",
            "140/140 [==============================] - 312s 2s/step - loss: 0.0672 - accuracy: 0.9871 - val_loss: 0.0973 - val_accuracy: 0.9717\n",
            "Epoch 3/14\n",
            "140/140 [==============================] - 312s 2s/step - loss: 0.0350 - accuracy: 0.9952 - val_loss: 0.0951 - val_accuracy: 0.9697\n",
            "Epoch 4/14\n",
            "140/140 [==============================] - 312s 2s/step - loss: 0.0334 - accuracy: 0.9960 - val_loss: 0.0951 - val_accuracy: 0.9697\n",
            "Epoch 5/14\n",
            "140/140 [==============================] - 313s 2s/step - loss: 0.0322 - accuracy: 0.9966 - val_loss: 0.0950 - val_accuracy: 0.9697\n",
            "Epoch 6/14\n",
            "140/140 [==============================] - 312s 2s/step - loss: 0.0326 - accuracy: 0.9961 - val_loss: 0.0949 - val_accuracy: 0.9697\n",
            "Epoch 7/14\n",
            "140/140 [==============================] - 312s 2s/step - loss: 0.0341 - accuracy: 0.9953 - val_loss: 0.0949 - val_accuracy: 0.9697\n"
          ],
          "name": "stdout"
        }
      ]
    },
    {
      "cell_type": "markdown",
      "metadata": {
        "id": "l5iZMoNm71ua"
      },
      "source": [
        "## Plotting the Graph"
      ]
    },
    {
      "cell_type": "code",
      "metadata": {
        "id": "V4yCZrew6pvN"
      },
      "source": [
        "def plot_hist(hist):\n",
        "    plt.plot(hist.history[\"accuracy\"])\n",
        "    plt.plot(hist.history[\"val_accuracy\"])\n",
        "    plt.plot(hist.history[\"loss\"])\n",
        "    plt.plot(hist.history[\"val_loss\"])\n",
        "    plt.title(\"Training Progress\")\n",
        "    plt.ylabel(\"Accuracy/Loss\")\n",
        "    plt.xlabel(\"Epochs\")\n",
        "    plt.legend([\"train_acc\", \"val_acc\", \"train_loss\", \"val_loss\"], loc=\"upper left\")\n",
        "    plt.show()"
      ],
      "execution_count": 20,
      "outputs": []
    },
    {
      "cell_type": "markdown",
      "metadata": {
        "id": "954TitfW7yUT"
      },
      "source": [
        "## Evaluate our Model"
      ]
    },
    {
      "cell_type": "code",
      "metadata": {
        "colab": {
          "base_uri": "https://localhost:8080/",
          "height": 329
        },
        "id": "jHtma-aq6t0s",
        "outputId": "ed9de04b-5703-49a1-b783-1e0f5649c6ba"
      },
      "source": [
        "accuracy = model.evaluate(pipeline_test)[1] * 100\n",
        "print(\"Accuracy: {:.2f}%\".format(accuracy))\n",
        "plot_hist(history)"
      ],
      "execution_count": 21,
      "outputs": [
        {
          "output_type": "stream",
          "text": [
            "8/8 [==============================] - 8s 996ms/step - loss: 0.0973 - accuracy: 0.9717\n",
            "Accuracy: 97.17%\n"
          ],
          "name": "stdout"
        },
        {
          "output_type": "display_data",
          "data": {
            "image/png": "[encoded data removed]",
            "text/plain": [
              "<Figure size 432x288 with 1 Axes>"
            ]
          },
          "metadata": {
            "tags": [],
            "needs_background": "light"
          }
        }
      ]
    },
    {
      "cell_type": "markdown",
      "metadata": {
        "id": "5FSgc3VqLInq"
      },
      "source": [
        "## Saving the Model"
      ]
    },
    {
      "cell_type": "code",
      "metadata": {
        "colab": {
          "base_uri": "https://localhost:8080/"
        },
        "id": "e14fCkXvDb9l",
        "outputId": "85bd048b-6090-4467-8b14-dc49703d9db7"
      },
      "source": [
        "model.save('bit_image_scene')"
      ],
      "execution_count": 22,
      "outputs": [
        {
          "output_type": "stream",
          "text": [
            "INFO:tensorflow:Assets written to: bit_image_scene/assets\n"
          ],
          "name": "stdout"
        },
        {
          "output_type": "stream",
          "text": [
            "INFO:tensorflow:Assets written to: bit_image_scene/assets\n"
          ],
          "name": "stderr"
        }
      ]
    },
    {
      "cell_type": "code",
      "metadata": {
        "colab": {
          "base_uri": "https://localhost:8080/"
        },
        "id": "QTaIkQ7WD8qE",
        "outputId": "341c0ba0-4de2-4958-dbc5-e5195e597350"
      },
      "source": [
        "!du -lh bit_image_scene"
      ],
      "execution_count": 23,
      "outputs": [
        {
          "output_type": "stream",
          "text": [
            "4.0K\tbit_image_scene/assets\n",
            "180M\tbit_image_scene/variables\n",
            "191M\tbit_image_scene\n"
          ],
          "name": "stdout"
        }
      ]
    },
    {
      "cell_type": "markdown",
      "metadata": {
        "id": "YoC-ag1cEMyY"
      },
      "source": [
        "## Inference Pipeline"
      ]
    },
    {
      "cell_type": "code",
      "metadata": {
        "id": "7lf64IwFEBoR"
      },
      "source": [
        "!wget -q https://data.vision.ee.ethz.ch/ihnatova/camera_scene_detection_validation.zip\n",
        "!unzip -qq camera_scene_detection_validation.zip"
      ],
      "execution_count": 24,
      "outputs": []
    },
    {
      "cell_type": "code",
      "metadata": {
        "id": "foHQO-qhEP8X"
      },
      "source": [
        "# https://stackoverflow.com/a/2669120/7636462\n",
        "def sorted_nicely(l): \n",
        "    \"\"\" Sort the given iterable in the way that humans expect.\"\"\" \n",
        "    convert = lambda text: int(text) if text.isdigit() else text \n",
        "    alphanum_key = lambda key: [ convert(c) for c in re.split('([0-9]+)', key) ] \n",
        "    return sorted(l, key = alphanum_key)\n",
        "\n",
        "def preprocess_image(image_path):\n",
        "    image = tf.io.read_file(image_path)\n",
        "    image = tf.image.decode_jpeg(image, channels=3)\n",
        "    image = tf.image.resize(image, (224, 224))\n",
        "    image = tf.cast(image, tf.float32) / 255.0\n",
        "    return image"
      ],
      "execution_count": 25,
      "outputs": []
    },
    {
      "cell_type": "code",
      "metadata": {
        "colab": {
          "base_uri": "https://localhost:8080/"
        },
        "id": "XCi7PLDJErW4",
        "outputId": "bec1b871-1d61-4c6c-e9fa-73136db9371f"
      },
      "source": [
        "test_image_paths = sorted_nicely(list(paths.list_images(\"images\")))\n",
        "print(f\"Total test images: {len(test_image_paths)}\")"
      ],
      "execution_count": 26,
      "outputs": [
        {
          "output_type": "stream",
          "text": [
            "Total test images: 600\n"
          ],
          "name": "stdout"
        }
      ]
    },
    {
      "cell_type": "code",
      "metadata": {
        "colab": {
          "base_uri": "https://localhost:8080/"
        },
        "id": "7qAN5nLtEtWl",
        "outputId": "1c352a27-0763-498c-ae16-7dafabe30266"
      },
      "source": [
        "test_image_paths[:5]"
      ],
      "execution_count": 27,
      "outputs": [
        {
          "output_type": "execute_result",
          "data": {
            "text/plain": [
              "['images/0.jpg',\n",
              " 'images/1.jpg',\n",
              " 'images/2.jpg',\n",
              " 'images/3.jpg',\n",
              " 'images/4.jpg']"
            ]
          },
          "metadata": {
            "tags": []
          },
          "execution_count": 27
        }
      ]
    },
    {
      "cell_type": "code",
      "metadata": {
        "colab": {
          "base_uri": "https://localhost:8080/"
        },
        "id": "DdGUINFrEu4W",
        "outputId": "7eb28e8f-1e45-4f68-8c0f-026fd770b715"
      },
      "source": [
        "classifier_model = load_model(\"bit_image_scene\")\n",
        "\n",
        "test_ds = tf.data.Dataset.from_tensor_slices(test_image_paths)\n",
        "test_ds = (\n",
        "    test_ds\n",
        "    .map(preprocess_image)\n",
        "    .batch(BATCH_SIZE)\n",
        ")\n",
        "\n",
        "test_predictions = np.argmax(classifier_model.predict(test_ds), 1)\n",
        "test_predictions = le.inverse_transform(test_predictions)\n",
        "print(test_predictions.shape)"
      ],
      "execution_count": 28,
      "outputs": [
        {
          "output_type": "stream",
          "text": [
            "(600,)\n"
          ],
          "name": "stdout"
        }
      ]
    },
    {
      "cell_type": "code",
      "metadata": {
        "colab": {
          "base_uri": "https://localhost:8080/"
        },
        "id": "KV7eXPz3EzEa",
        "outputId": "7a6b4291-90f5-4a1e-f645-c7048394a778"
      },
      "source": [
        "test_predictions_num = list(map(lambda x: x.split(\"_\")[0], test_predictions.tolist()))\n",
        "print(test_predictions_num[:5])\n",
        "with open('results.txt', \"w\") as myfile:\n",
        "    myfile.write('\\n'.join(list(test_predictions_num)))\n",
        "!head -5 results.txt"
      ],
      "execution_count": 29,
      "outputs": [
        {
          "output_type": "stream",
          "text": [
            "['9', '21', '27', '4', '28']\n",
            "9\n",
            "21\n",
            "27\n",
            "4\n",
            "28\n"
          ],
          "name": "stdout"
        }
      ]
    },
    {
      "cell_type": "code",
      "metadata": {
        "id": "4fBdaCm3E1Xd",
        "colab": {
          "base_uri": "https://localhost:8080/"
        },
        "outputId": "fd9c6717-53a6-4c1f-a508-47f2f4863d1c"
      },
      "source": [
        "converter = tf.lite.TFLiteConverter.from_saved_model(\"bit_image_scene\")\n",
        "converter.optimizations = [tf.lite.Optimize.DEFAULT]\n",
        "converter.target_spec.supported_ops = [\n",
        "    tf.lite.OpsSet.TFLITE_BUILTINS,\n",
        "    tf.lite.OpsSet.SELECT_TF_OPS \n",
        "]\n",
        "tflite_model = converter.convert()\n",
        "open(\"bit_image_scene.tflite\", 'wb').write(tflite_model)\n",
        "print('Model size is %f MBs.' % (len(tflite_model) / 1024 / 1024.0))"
      ],
      "execution_count": 30,
      "outputs": [
        {
          "output_type": "stream",
          "text": [
            "Model size is 23.269440 MBs.\n"
          ],
          "name": "stdout"
        }
      ]
    },
    {
      "cell_type": "code",
      "metadata": {
        "colab": {
          "base_uri": "https://localhost:8080/"
        },
        "id": "KYshtd-sRnxc",
        "outputId": "79656438-e99f-44e7-facd-9c0bb7f16b6c"
      },
      "source": [
        "interpreter = tf.lite.Interpreter(model_path = 'bit_image_scene.tflite')\n",
        "input_details = interpreter.get_input_details()\n",
        "output_details = interpreter.get_output_details()\n",
        "\n",
        "print(\"Input Shape:\", input_details[0]['shape'])\n",
        "print(\"Input Type:\", input_details[0]['dtype'])\n",
        "print(\"Output Shape:\", output_details[0]['shape'])\n",
        "print(\"Output Type:\", output_details[0]['dtype'])"
      ],
      "execution_count": 31,
      "outputs": [
        {
          "output_type": "stream",
          "text": [
            "Input Shape: [  1 224 224   3]\n",
            "Input Type: <class 'numpy.float32'>\n",
            "Output Shape: [ 1 30]\n",
            "Output Type: <class 'numpy.float32'>\n"
          ],
          "name": "stdout"
        }
      ]
    }
  ]
}